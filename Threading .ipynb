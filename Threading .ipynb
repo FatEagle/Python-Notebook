{
 "cells": [
  {
   "cell_type": "markdown",
   "metadata": {},
   "source": [
    "## 17.1.1. Thread-Local Data\n",
    "Thread-local data就是线程指定的数据。使用`local`或他的子类来创建和存储一个thread -local data"
   ]
  },
  {
   "cell_type": "code",
   "execution_count": 1,
   "metadata": {},
   "outputs": [],
   "source": [
    "import threading"
   ]
  },
  {
   "cell_type": "code",
   "execution_count": 2,
   "metadata": {},
   "outputs": [
    {
     "data": {
      "text/plain": [
       "1"
      ]
     },
     "execution_count": 2,
     "metadata": {},
     "output_type": "execute_result"
    }
   ],
   "source": [
    "mydata = threading.local()\n",
    "mydata.x = 1\n",
    "mydata.x"
   ]
  },
  {
   "cell_type": "code",
   "execution_count": 3,
   "metadata": {},
   "outputs": [
    {
     "data": {
      "text/plain": [
       "<_thread._local at 0x110d40200>"
      ]
     },
     "execution_count": 3,
     "metadata": {},
     "output_type": "execute_result"
    }
   ],
   "source": [
    "mydata"
   ]
  },
  {
   "cell_type": "markdown",
   "metadata": {},
   "source": [
    "## 17.1.2. Thread Objects\n",
    "```python\n",
    "class threading.Thread(group=None, target=None, \n",
    "                       name=None, args=(),\n",
    "                       kwargs={}, *, daemon=None)\n",
    "```\n",
    "应该使用传关键字调用（如 target=do_something)\n",
    "**__init__()**\n",
    "* group: 保留字段；\n",
    "* target: 传函数。run()时会跑传入的函数，默认None什么都不做；\n",
    "* args: target传入函数的参数；\n",
    "* kwargs: target传入函数的关键字参数\n",
    "* name: 线程名。默认会赋一个唯一的名称，形式为`Thread-N`\n",
    "* daemon: 如果是None，状态从父线程中继承，如果非None标记为daemon thread\n",
    "\n",
    "**method：**\n",
    "* start(): 激活线程, 只能被调用一次\n",
    "* run(): 执行要线程做的事情。通过target传入的，或复写了\n",
    "* join(timeout=None): 若thread1在thread2中调用了join()方法thread1.join(), 那么thread2必须等待thread1执行结束、抛出异常或timeout。thread2才继续向下执行。\n",
    "> 因为join永远return None，所以要调用is_alive()确认time out是否发生。\n",
    "> 一个线程可以被join()很多次。join()会抛出RuntimeError，如果在尝试join时发生死锁。在线程start()之前join也是一种错误，同样会抛出RuntimeError\n",
    "\n",
    "* ident: `thread identifier`\n",
    "* is_alive(): 是否存活。True: 在run()方法运行期间。False: 其他。\n",
    "\n",
    "\n",
    "\n",
    "\n",
    "如果继承了`Thread`，在开始做其他事情之前，必须回调父类的`__init__()`\n",
    "\n",
    "`Thread`类控制每一个独立线程的执行动作（指定了这个线程干什么）。\n",
    "有两种方法指定线程动作：\n",
    "1. 传递一个可调用对象到构造函数__init__()\n",
    "2. 在子类中复写run()\n",
    "\n",
    "这个类只能被重写__init__()和run()\n",
    "\n",
    "一旦线程对象被创建，激活它必须使用`start()`方法。在控制单独的线程时，`start()`会调用`run()`。\n",
    "\n",
    "一旦线程被激活，线程被认为是`alive`。其在`run()`方法结束时失去`alive`状态。`run()`方法可能是正常结束，也可能是抛出了一个unhandled exception而结束。可以使用`is_alive()`方法测试线程是否存活(alive)。\n",
    "\n",
    "其他线程可以调用一个线程的`join()`方法。这会阻塞被调用的线程直到`join()`方法结束。\n",
    "\n",
    "每一个线程都有一个名字。名字可以传递到构造函数中，通过`name`属性来读或改变\n",
    "\n",
    "一个线程可以被标记为`daemon thread`。这个标记的意义是只有`daemon thread`去除后Python program才能完全退出。这个的初始值是从父线程中继承来的。这个标记可以通过`daemon`属性设置，或通过构造函数设置。\n",
    "\n",
    "> Deamon thread是那些在程序关闭时，突然被停止的线程。他们的资源（如已打开的文件句柄，数据库连接等）也许不会被安全的释放。如果你想优雅的停止线程，确认没有制造deamon thread（make them non-daemonic）并且使用一个合适的信号机制（如 Event）\n",
    "\n",
    "在Python程序中，会有一个主线程对象用于初始化其他线程，这不会是一个`daemon thread`\n",
    "\n",
    "有时，我们会创建一些`dummy thread`对象。这些线程对象和`alien thread`相关。`alien thread`是控制Python之外的线程模型，如C语言代码创建的线程。`dummy thread`对象有一些功能上的限制：\n",
    "1. 他们永远被认为是`alive`和`daemonic thread`的\n",
    "2. 他们不能被join()\n",
    "3. 因为他们不能被查明，所以他们永远不能被删除"
   ]
  },
  {
   "cell_type": "markdown",
   "metadata": {},
   "source": [
    "## 17.1.3. Lock Objects\n",
    "```python\n",
    "class threading.Lock\n",
    "```\n",
    "**method**\n",
    "* acquire(blocking=True, timeout=-1)\n",
    "    * blocking: \n",
    "        * True, 阻塞直到锁释放，然后将锁锁定并返回True。\n",
    "        * False，不阻塞。如果一个调用的blocking=True会阻塞，并立即返回False，否则(blockign=False)立即锁定并返回True\n",
    "    * timeout: 浮点型。正值，无法获取锁时将最多阻塞timeout秒。-1，无线等待。 blocking是False时，timeout会被忽略。\n",
    "* release(): 释放锁，可以被任何线程调用。如果是一个锁，释放。如果是一组锁，释放一个锁。如果没有锁，raise RuntimeError。没有返回值。\n",
    "\n",
    "\n",
    "一个primitive lock是一个同步原语。其是一个不属于特定线程的锁。这是Python中最底层的同步原语。\n",
    "\n",
    "primitive lock有两种状态`locked`,`unlocked`。它在unlocked转态时被撞见。其有两个最基本的方法`acquire()`,`release()`.\n",
    "* `acquire()`: unlocked ---> locked\n",
    "* `release()`: locked ---> unlocked\n",
    "锁支持[上下文管理器协议](https://docs.python.org/release/3.6.8/library/threading.html#with-locks)"
   ]
  },
  {
   "cell_type": "markdown",
   "metadata": {},
   "source": [
    "## 17.1.4. RLock Objects\n",
    "重入锁(reentrant lock)是可以被同一个线程多次获取的同步基元组件。其添加了“所属线程”和“递归等级”的概念。在锁定状态下，某些线程拥有锁 ； 在非锁定状态下， 没有线程拥有它。"
   ]
  },
  {
   "cell_type": "markdown",
   "metadata": {},
   "source": [
    "## 17.1.5. Condition Objects"
   ]
  }
 ],
 "metadata": {
  "kernelspec": {
   "display_name": "Python 3",
   "language": "python",
   "name": "python3"
  },
  "language_info": {
   "codemirror_mode": {
    "name": "ipython",
    "version": 3
   },
   "file_extension": ".py",
   "mimetype": "text/x-python",
   "name": "python",
   "nbconvert_exporter": "python",
   "pygments_lexer": "ipython3",
   "version": "3.6.4"
  }
 },
 "nbformat": 4,
 "nbformat_minor": 2
}
